{
 "cells": [
  {
   "cell_type": "code",
   "execution_count": 3,
   "metadata": {},
   "outputs": [],
   "source": [
    "import os"
   ]
  },
  {
   "cell_type": "code",
   "execution_count": 9,
   "metadata": {},
   "outputs": [],
   "source": [
    "IP_ADDRESS = \"192.168.12.1\"\n",
    "PORT = 8090"
   ]
  },
  {
   "cell_type": "code",
   "execution_count": 7,
   "metadata": {},
   "outputs": [],
   "source": [
    "def ping(ip_address):\n",
    "    cmd = 'ping -c 5'\n",
    "    return os.system(cmd + ' ' + ip_address)"
   ]
  },
  {
   "cell_type": "code",
   "execution_count": 10,
   "metadata": {},
   "outputs": [
    {
     "name": "stdout",
     "output_type": "stream",
     "text": [
      "PING 192.168.12.1 (192.168.12.1) 56(84) bytes of data.\n",
      "From 192.168.178.99 icmp_seq=4 Destination Host Unreachable\n",
      "\n",
      "--- 192.168.12.1 ping statistics ---\n",
      "5 packets transmitted, 0 received, +1 errors, 100% packet loss, time 4132ms\n",
      "\n",
      "256\n"
     ]
    }
   ],
   "source": [
    "print(ping(IP_ADDRESS))"
   ]
  },
  {
   "cell_type": "code",
   "execution_count": null,
   "metadata": {},
   "outputs": [],
   "source": []
  },
  {
   "cell_type": "code",
   "execution_count": 11,
   "metadata": {},
   "outputs": [
    {
     "name": "stdout",
     "output_type": "stream",
     "text": [
      "  % Total    % Received % Xferd  Average Speed   Time    Time     Time  Current\n",
      "                                 Dload  Upload   Total   Spent    Left  Speed\n",
      "  0     0    0     0    0     0      0      0 --:--:--  0:02:10 --:--:--     0\n",
      "curl: (28) Failed to connect to 192.168.12.1 port 8090 after 130533 ms: Connection timed out\n"
     ]
    }
   ],
   "source": [
    "!curl -H \"Secret: 1999fb39aab24524a18778a731989f32\" http://{IP_ADDRESS}:{PORT}/device/status | jq"
   ]
  },
  {
   "cell_type": "code",
   "execution_count": null,
   "metadata": {},
   "outputs": [],
   "source": []
  }
 ],
 "metadata": {
  "kernelspec": {
   "display_name": "Python 3",
   "language": "python",
   "name": "python3"
  },
  "language_info": {
   "codemirror_mode": {
    "name": "ipython",
    "version": 3
   },
   "file_extension": ".py",
   "mimetype": "text/x-python",
   "name": "python",
   "nbconvert_exporter": "python",
   "pygments_lexer": "ipython3",
   "version": "3.10.12"
  }
 },
 "nbformat": 4,
 "nbformat_minor": 2
}
