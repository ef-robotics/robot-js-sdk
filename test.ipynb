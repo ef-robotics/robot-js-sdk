{
 "cells": [
  {
   "cell_type": "code",
   "execution_count": 3,
   "metadata": {},
   "outputs": [],
   "source": [
    "import os"
   ]
  },
  {
   "cell_type": "code",
   "execution_count": 4,
   "metadata": {},
   "outputs": [],
   "source": [
    "IP_ADDRESS = \"192.168.178.143\"\n",
    "PORT = 8090"
   ]
  },
  {
   "cell_type": "code",
   "execution_count": 7,
   "metadata": {},
   "outputs": [],
   "source": [
    "def ping(ip_address):\n",
    "    cmd = 'ping -c 5'\n",
    "    return os.system(cmd + ' ' + ip_address)"
   ]
  },
  {
   "cell_type": "code",
   "execution_count": 8,
   "metadata": {},
   "outputs": [
    {
     "name": "stdout",
     "output_type": "stream",
     "text": [
      "PING 192.168.178.143 (192.168.178.143) 56(84) bytes of data.\n",
      "64 bytes from 192.168.178.143: icmp_seq=1 ttl=63 time=19.3 ms\n",
      "64 bytes from 192.168.178.143: icmp_seq=2 ttl=63 time=17.0 ms\n",
      "64 bytes from 192.168.178.143: icmp_seq=3 ttl=63 time=71.9 ms\n",
      "64 bytes from 192.168.178.143: icmp_seq=4 ttl=63 time=20.6 ms\n",
      "64 bytes from 192.168.178.143: icmp_seq=5 ttl=63 time=15.3 ms\n",
      "\n",
      "--- 192.168.178.143 ping statistics ---\n",
      "5 packets transmitted, 5 received, 0% packet loss, time 4006ms\n",
      "rtt min/avg/max/mdev = 15.327/28.834/71.913/21.615 ms\n",
      "0\n"
     ]
    }
   ],
   "source": [
    "print(ping(IP_ADDRESS))"
   ]
  },
  {
   "cell_type": "code",
   "execution_count": null,
   "metadata": {},
   "outputs": [],
   "source": []
  },
  {
   "cell_type": "code",
   "execution_count": 2,
   "metadata": {},
   "outputs": [
    {
     "name": "stdout",
     "output_type": "stream",
     "text": [
      "  % Total    % Received % Xferd  Average Speed   Time    Time     Time  Current\n",
      "                                 Dload  Upload   Total   Spent    Left  Speed\n",
      "  0     0    0     0    0     0      0      0 --:--:-- --:--:-- --:--:--     0\n",
      "curl: (7) Failed to connect to 192.168.178.143 port 8090 after 19 ms: Connection refused\n"
     ]
    }
   ],
   "source": [
    "!curl -H \"Secret: 1999fb39aab24524a18778a731989f32\" http://{IP_ADDRESS}:{PORT}/device/status | jq"
   ]
  },
  {
   "cell_type": "code",
   "execution_count": null,
   "metadata": {},
   "outputs": [],
   "source": []
  }
 ],
 "metadata": {
  "kernelspec": {
   "display_name": "Python 3",
   "language": "python",
   "name": "python3"
  },
  "language_info": {
   "codemirror_mode": {
    "name": "ipython",
    "version": 3
   },
   "file_extension": ".py",
   "mimetype": "text/x-python",
   "name": "python",
   "nbconvert_exporter": "python",
   "pygments_lexer": "ipython3",
   "version": "3.10.12"
  }
 },
 "nbformat": 4,
 "nbformat_minor": 2
}
