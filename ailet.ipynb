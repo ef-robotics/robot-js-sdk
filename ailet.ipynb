{
 "cells": [
  {
   "cell_type": "code",
   "execution_count": 15,
   "metadata": {},
   "outputs": [],
   "source": [
    "import subprocess\n",
    "import json\n",
    "import requests\n",
    "import uuid"
   ]
  },
  {
   "cell_type": "code",
   "execution_count": 22,
   "metadata": {},
   "outputs": [],
   "source": [
    "command = \"\"\"\n",
    "curl -X 'POST' \\\n",
    "'https://poc.intrtl.com/api/v2/auth/login' \\\n",
    "-H 'accept: application/json' \\\n",
    "-H 'Content-Type: application/json' \\\n",
    "-d '{\n",
    "\"login\": \"efrobotics.poc\",\n",
    "\"password\": \"efrobotics1\"\n",
    "}'\n",
    "\"\"\""
   ]
  },
  {
   "cell_type": "code",
   "execution_count": 23,
   "metadata": {},
   "outputs": [
    {
     "name": "stdout",
     "output_type": "stream",
     "text": [
      "Response Text: {\"user_id\":\"36772\",\"token\":\"b81027b2-acb7-418b-8b12-fc5df2938387\",\"expires_at\":\"2024-08-09T09:57:04\"}\n"
     ]
    }
   ],
   "source": [
    "# Run the curl command and capture the output\n",
    "result = subprocess.run(command, shell=True, capture_output=True, text=True)\n",
    "# Get the stdout output, which is the response from the server\n",
    "response_text = result.stdout\n",
    "# Print the response (optional)\n",
    "print(\"Response Text:\", response_text)"
   ]
  },
  {
   "cell_type": "code",
   "execution_count": 24,
   "metadata": {},
   "outputs": [
    {
     "name": "stdout",
     "output_type": "stream",
     "text": [
      "Response JSON: {'user_id': '36772', 'token': 'b81027b2-acb7-418b-8b12-fc5df2938387', 'expires_at': '2024-08-09T09:57:04'}\n"
     ]
    }
   ],
   "source": [
    "# Parse the JSON response\n",
    "response_json = json.loads(response_text)\n",
    "# Print the parsed JSON (optional)\n",
    "print(\"Response JSON:\", response_json)"
   ]
  },
  {
   "cell_type": "code",
   "execution_count": 25,
   "metadata": {},
   "outputs": [
    {
     "name": "stdout",
     "output_type": "stream",
     "text": [
      "Token: b81027b2-acb7-418b-8b12-fc5df2938387\n"
     ]
    }
   ],
   "source": [
    "# Save the token or other information as needed\n",
    "token = response_json.get(\"token\")\n",
    "# Print the token (optional)\n",
    "print(\"Token:\", token)"
   ]
  },
  {
   "cell_type": "code",
   "execution_count": 14,
   "metadata": {},
   "outputs": [
    {
     "name": "stdout",
     "output_type": "stream",
     "text": [
      "Token: None\n"
     ]
    }
   ],
   "source": [
    "# Constants\n",
    "url = \"https://poc.intrtl.com/api/v2/photos/\"\n",
    "visit_id = \"test_faraz_01\"\n",
    "scene_id = \"1\"\n",
    "external_store_id = \"10001\"\n",
    "photo_file_path = \"./photo.png\"\n"
   ]
  },
  {
   "cell_type": "code",
   "execution_count": null,
   "metadata": {},
   "outputs": [],
   "source": [
    "# Function to generate a unique photo ID\n",
    "def generate_unique_photo_id():\n",
    "    return str(uuid.uuid4())"
   ]
  },
  {
   "cell_type": "code",
   "execution_count": null,
   "metadata": {},
   "outputs": [],
   "source": [
    "# Function to post a photo\n",
    "def post_photo():\n",
    "    photo_id = generate_unique_photo_id()\n",
    "    files = {\n",
    "        'photo_data': open(photo_file_path, 'rb')\n",
    "    }\n",
    "    data = {\n",
    "        'visit_id': visit_id,\n",
    "        'photo_id': photo_id,\n",
    "        'scene_id': scene_id,\n",
    "        'external_store_id': external_store_id\n",
    "    }\n",
    "    headers = {\n",
    "        'Authorization': f'Bearer {token}'\n",
    "    }\n",
    "\n",
    "    response = requests.post(url, files=files, data=data, headers=headers)\n",
    "    return response.json()"
   ]
  },
  {
   "cell_type": "code",
   "execution_count": null,
   "metadata": {},
   "outputs": [],
   "source": []
  },
  {
   "cell_type": "code",
   "execution_count": null,
   "metadata": {},
   "outputs": [],
   "source": []
  },
  {
   "cell_type": "code",
   "execution_count": null,
   "metadata": {},
   "outputs": [],
   "source": []
  }
 ],
 "metadata": {
  "kernelspec": {
   "display_name": "Python 3",
   "language": "python",
   "name": "python3"
  },
  "language_info": {
   "codemirror_mode": {
    "name": "ipython",
    "version": 3
   },
   "file_extension": ".py",
   "mimetype": "text/x-python",
   "name": "python",
   "nbconvert_exporter": "python",
   "pygments_lexer": "ipython3",
   "version": "3.10.12"
  }
 },
 "nbformat": 4,
 "nbformat_minor": 2
}
